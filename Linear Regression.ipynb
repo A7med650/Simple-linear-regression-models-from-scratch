{
 "cells": [
  {
   "cell_type": "markdown",
   "metadata": {},
   "source": [
    "# Simple linear regression models from scratch\n",
    "### The goal of this notebook is to implement Linear Regression from scratch\n",
    "##### %matplotlib inline: display plots inline in Jupyter notebook"
   ]
  },
  {
   "cell_type": "code",
   "execution_count": 197,
   "metadata": {},
   "outputs": [],
   "source": [
    "# import libraries\n",
    "import numpy as np\n",
    "import pandas as pd\n",
    "import matplotlib.pyplot as plt\n",
    "import seaborn as sns\n",
    "%matplotlib inline"
   ]
  },
  {
   "cell_type": "markdown",
   "metadata": {},
   "source": [
    "# 1- Hypothesis:\n",
    "## $$h_{\\theta}(x)=\\theta_{0}+\\theta_{1} x_{1}+\\theta_{2} x_{2}+\\theta_{3} x_{3}+\\theta_{4} x_{4}+\\ldots \\ldots+\\theta_{n} x_{n}$$\n",
    "## $$h_{\\theta}(x)=\\theta^{T} X$$"
   ]
  },
  {
   "cell_type": "code",
   "execution_count": 198,
   "metadata": {},
   "outputs": [],
   "source": [
    "# theta = Features(x) + 1\n",
    "# Feattures = 55\n",
    "# theta = 56\n",
    "# Features = 56\n",
    "# shape theta => (56, 1)\n",
    "# shape x(Features) => (23786, 56)\n",
    "# h = x * theta\n",
    "# shape h => (23786, 1)\n",
    "def hypothesis(theta, x):\n",
    "    h = np.dot(x, theta)\n",
    "    return h"
   ]
  },
  {
   "cell_type": "markdown",
   "metadata": {},
   "source": [
    "# 2- Cost Function:\n",
    "## $$J\\left(\\theta_{0}, \\theta_{1}, \\ldots, \\theta_{n}\\right)=\\frac{1}{2 m} \\sum_{i=1}^{m}\\left(h_{\\theta}\\left(x^{(i)}\\right)-y^{(i)}\\right)^{2}$$"
   ]
  },
  {
   "cell_type": "code",
   "execution_count": 199,
   "metadata": {},
   "outputs": [],
   "source": [
    "def cost_function(m, y, h):\n",
    "    J = (1/(2*m))*(np.sum(np.power((h-y),2)))\n",
    "    return J"
   ]
  },
  {
   "cell_type": "markdown",
   "metadata": {},
   "source": [
    "# 3- Gradient Descent:\n",
    "## $$\\theta_{j}:=\\theta_{j}-\\alpha \\frac{\\partial}{\\partial \\theta_{j}} J\\left(\\theta_{0}, \\ldots, \\theta_{n}\\right)$$\n",
    "## $$\\theta_{j}:=\\theta_{j}-\\alpha \\frac{1}{m} \\sum_{i=1}^{m}\\left(h_{\\theta}\\left(x^{(i)}\\right)-y^{(i)}\\right) x_j^{(i)}$$"
   ]
  },
  {
   "cell_type": "code",
   "execution_count": 200,
   "metadata": {},
   "outputs": [],
   "source": [
    "# shape x(Features) => (23786, 56)\n",
    "#shape h-y => (23786, 1)\n",
    "def Gradient_descent(alpha, m, h, y, theta, x):\n",
    "    temp_1 = theta - (alpha/m) * np.dot(x.T,(h-y))\n",
    "    return temp_1"
   ]
  },
  {
   "cell_type": "markdown",
   "metadata": {},
   "source": [
    "# Read Data: "
   ]
  },
  {
   "cell_type": "code",
   "execution_count": 201,
   "metadata": {},
   "outputs": [],
   "source": [
    "train = pd.read_csv(R\"D:\\ML_Support\\data_regression\\train.csv\", sep=';')\n",
    "test = pd.read_csv(R\"D:\\ML_Support\\data_regression\\test.csv\",  sep=';')\n",
    "sample_submission = pd.read_csv(R\"D:\\ML_Support\\data_regression\\sample_submission.csv\", sep=';')\n",
    "train.insert(0, 'x0', 1)\n",
    "alpha = 1e-14\n",
    "number_iter=1000\n",
    "lst = []\n",
    "theta = np.zeros((Features.shape[1], 1))"
   ]
  },
  {
   "cell_type": "code",
   "execution_count": 231,
   "metadata": {},
   "outputs": [
    {
     "name": "stdout",
     "output_type": "stream",
     "text": [
      "<class 'pandas.core.frame.DataFrame'>\n",
      "RangeIndex: 23786 entries, 0 to 23785\n",
      "Data columns (total 58 columns):\n",
      "x0                              23786 non-null int64\n",
      "tag                             23786 non-null object\n",
      "tag_label                       23786 non-null int64\n",
      "data_channel                    23786 non-null int64\n",
      "timedelta                       23786 non-null int64\n",
      "n_tokens_title                  23786 non-null int64\n",
      "n_tokens_content                23786 non-null int64\n",
      "n_unique_tokens                 23786 non-null float64\n",
      "n_non_stop_words                23786 non-null float64\n",
      "n_non_stop_unique_tokens        23786 non-null float64\n",
      "num_hrefs                       23786 non-null int64\n",
      "num_self_hrefs                  23786 non-null int64\n",
      "num_imgs                        23786 non-null int64\n",
      "num_videos                      23786 non-null int64\n",
      "average_token_length            23786 non-null float64\n",
      "num_keywords                    23786 non-null int64\n",
      "kw_min_min                      23786 non-null int64\n",
      "kw_max_min                      23786 non-null float64\n",
      "kw_avg_min                      23786 non-null float64\n",
      "kw_min_max                      23786 non-null int64\n",
      "kw_max_max                      23786 non-null int64\n",
      "kw_avg_max                      23786 non-null float64\n",
      "kw_min_avg                      23786 non-null float64\n",
      "kw_max_avg                      23786 non-null float64\n",
      "kw_avg_avg                      23786 non-null float64\n",
      "self_reference_min_shares       23786 non-null float64\n",
      "self_reference_max_shares       23786 non-null float64\n",
      "self_reference_avg_sharess      23786 non-null float64\n",
      "weekday_is_monday               23786 non-null int64\n",
      "weekday_is_tuesday              23786 non-null int64\n",
      "weekday_is_wednesday            23786 non-null int64\n",
      "weekday_is_thursday             23786 non-null int64\n",
      "weekday_is_friday               23786 non-null int64\n",
      "weekday_is_saturday             23786 non-null int64\n",
      "weekday_is_sunday               23786 non-null int64\n",
      "is_weekend                      23786 non-null int64\n",
      "LDA_00                          23786 non-null float64\n",
      "LDA_01                          23786 non-null float64\n",
      "LDA_02                          23786 non-null float64\n",
      "LDA_03                          23786 non-null float64\n",
      "LDA_04                          23786 non-null float64\n",
      "global_subjectivity             23786 non-null float64\n",
      "global_sentiment_polarity       23786 non-null float64\n",
      "global_rate_positive_words      23786 non-null float64\n",
      "global_rate_negative_words      23786 non-null float64\n",
      "rate_positive_words             23786 non-null float64\n",
      "rate_negative_words             23786 non-null float64\n",
      "avg_positive_polarity           23786 non-null float64\n",
      "min_positive_polarity           23786 non-null float64\n",
      "max_positive_polarity           23786 non-null float64\n",
      "avg_negative_polarity           23786 non-null float64\n",
      "min_negative_polarity           23786 non-null float64\n",
      "max_negative_polarity           23786 non-null float64\n",
      "title_subjectivity              23786 non-null float64\n",
      "title_sentiment_polarity        23786 non-null float64\n",
      "abs_title_sentiment_polarity    23786 non-null float64\n",
      "abs_title_subjectivity          23786 non-null float64\n",
      "shares                          23786 non-null int64\n",
      "dtypes: float64(34), int64(23), object(1)\n",
      "memory usage: 10.5+ MB\n"
     ]
    }
   ],
   "source": [
    "train.info()"
   ]
  },
  {
   "cell_type": "markdown",
   "metadata": {},
   "source": [
    "### Statistics of Data"
   ]
  },
  {
   "cell_type": "code",
   "execution_count": 232,
   "metadata": {},
   "outputs": [
    {
     "data": {
      "text/html": [
       "<div>\n",
       "<style scoped>\n",
       "    .dataframe tbody tr th:only-of-type {\n",
       "        vertical-align: middle;\n",
       "    }\n",
       "\n",
       "    .dataframe tbody tr th {\n",
       "        vertical-align: top;\n",
       "    }\n",
       "\n",
       "    .dataframe thead th {\n",
       "        text-align: right;\n",
       "    }\n",
       "</style>\n",
       "<table border=\"1\" class=\"dataframe\">\n",
       "  <thead>\n",
       "    <tr style=\"text-align: right;\">\n",
       "      <th></th>\n",
       "      <th>x0</th>\n",
       "      <th>tag_label</th>\n",
       "      <th>data_channel</th>\n",
       "      <th>timedelta</th>\n",
       "      <th>n_tokens_title</th>\n",
       "      <th>n_tokens_content</th>\n",
       "      <th>n_unique_tokens</th>\n",
       "      <th>n_non_stop_words</th>\n",
       "      <th>n_non_stop_unique_tokens</th>\n",
       "      <th>num_hrefs</th>\n",
       "      <th>...</th>\n",
       "      <th>min_positive_polarity</th>\n",
       "      <th>max_positive_polarity</th>\n",
       "      <th>avg_negative_polarity</th>\n",
       "      <th>min_negative_polarity</th>\n",
       "      <th>max_negative_polarity</th>\n",
       "      <th>title_subjectivity</th>\n",
       "      <th>title_sentiment_polarity</th>\n",
       "      <th>abs_title_sentiment_polarity</th>\n",
       "      <th>abs_title_subjectivity</th>\n",
       "      <th>shares</th>\n",
       "    </tr>\n",
       "  </thead>\n",
       "  <tbody>\n",
       "    <tr>\n",
       "      <td>count</td>\n",
       "      <td>23786.0</td>\n",
       "      <td>23786.000000</td>\n",
       "      <td>23786.000000</td>\n",
       "      <td>23786.000000</td>\n",
       "      <td>23786.000000</td>\n",
       "      <td>23786.000000</td>\n",
       "      <td>23786.000000</td>\n",
       "      <td>23786.000000</td>\n",
       "      <td>23786.000000</td>\n",
       "      <td>23786.000000</td>\n",
       "      <td>...</td>\n",
       "      <td>23786.000000</td>\n",
       "      <td>23786.000000</td>\n",
       "      <td>23786.000000</td>\n",
       "      <td>23786.000000</td>\n",
       "      <td>23786.000000</td>\n",
       "      <td>23786.000000</td>\n",
       "      <td>23786.000000</td>\n",
       "      <td>23786.000000</td>\n",
       "      <td>23786.000000</td>\n",
       "      <td>23786.000000</td>\n",
       "    </tr>\n",
       "    <tr>\n",
       "      <td>mean</td>\n",
       "      <td>1.0</td>\n",
       "      <td>4341.801228</td>\n",
       "      <td>2.475195</td>\n",
       "      <td>354.083452</td>\n",
       "      <td>10.395695</td>\n",
       "      <td>549.154965</td>\n",
       "      <td>0.529343</td>\n",
       "      <td>0.968595</td>\n",
       "      <td>0.671521</td>\n",
       "      <td>10.849786</td>\n",
       "      <td>...</td>\n",
       "      <td>0.094918</td>\n",
       "      <td>0.755732</td>\n",
       "      <td>-0.260015</td>\n",
       "      <td>-0.522938</td>\n",
       "      <td>-0.107736</td>\n",
       "      <td>0.283007</td>\n",
       "      <td>0.070401</td>\n",
       "      <td>0.156506</td>\n",
       "      <td>0.341339</td>\n",
       "      <td>3514.103254</td>\n",
       "    </tr>\n",
       "    <tr>\n",
       "      <td>std</td>\n",
       "      <td>0.0</td>\n",
       "      <td>2560.540028</td>\n",
       "      <td>1.869012</td>\n",
       "      <td>214.621137</td>\n",
       "      <td>2.114026</td>\n",
       "      <td>476.367762</td>\n",
       "      <td>0.138775</td>\n",
       "      <td>0.174413</td>\n",
       "      <td>0.156337</td>\n",
       "      <td>11.249232</td>\n",
       "      <td>...</td>\n",
       "      <td>0.071027</td>\n",
       "      <td>0.249643</td>\n",
       "      <td>0.128428</td>\n",
       "      <td>0.290564</td>\n",
       "      <td>0.096336</td>\n",
       "      <td>0.324342</td>\n",
       "      <td>0.266636</td>\n",
       "      <td>0.227060</td>\n",
       "      <td>0.189126</td>\n",
       "      <td>13618.369822</td>\n",
       "    </tr>\n",
       "    <tr>\n",
       "      <td>min</td>\n",
       "      <td>1.0</td>\n",
       "      <td>0.000000</td>\n",
       "      <td>0.000000</td>\n",
       "      <td>8.000000</td>\n",
       "      <td>2.000000</td>\n",
       "      <td>0.000000</td>\n",
       "      <td>0.000000</td>\n",
       "      <td>0.000000</td>\n",
       "      <td>0.000000</td>\n",
       "      <td>0.000000</td>\n",
       "      <td>...</td>\n",
       "      <td>0.000000</td>\n",
       "      <td>0.000000</td>\n",
       "      <td>-1.000000</td>\n",
       "      <td>-1.000000</td>\n",
       "      <td>-1.000000</td>\n",
       "      <td>0.000000</td>\n",
       "      <td>-1.000000</td>\n",
       "      <td>0.000000</td>\n",
       "      <td>0.000000</td>\n",
       "      <td>4.000000</td>\n",
       "    </tr>\n",
       "    <tr>\n",
       "      <td>25%</td>\n",
       "      <td>1.0</td>\n",
       "      <td>2290.250000</td>\n",
       "      <td>1.000000</td>\n",
       "      <td>163.000000</td>\n",
       "      <td>9.000000</td>\n",
       "      <td>247.000000</td>\n",
       "      <td>0.470306</td>\n",
       "      <td>1.000000</td>\n",
       "      <td>0.625000</td>\n",
       "      <td>4.000000</td>\n",
       "      <td>...</td>\n",
       "      <td>0.050000</td>\n",
       "      <td>0.600000</td>\n",
       "      <td>-0.329438</td>\n",
       "      <td>-0.700000</td>\n",
       "      <td>-0.125000</td>\n",
       "      <td>0.000000</td>\n",
       "      <td>0.000000</td>\n",
       "      <td>0.000000</td>\n",
       "      <td>0.166667</td>\n",
       "      <td>951.000000</td>\n",
       "    </tr>\n",
       "    <tr>\n",
       "      <td>50%</td>\n",
       "      <td>1.0</td>\n",
       "      <td>4193.000000</td>\n",
       "      <td>2.000000</td>\n",
       "      <td>339.000000</td>\n",
       "      <td>10.000000</td>\n",
       "      <td>410.000000</td>\n",
       "      <td>0.538160</td>\n",
       "      <td>1.000000</td>\n",
       "      <td>0.690476</td>\n",
       "      <td>8.000000</td>\n",
       "      <td>...</td>\n",
       "      <td>0.100000</td>\n",
       "      <td>0.800000</td>\n",
       "      <td>-0.254356</td>\n",
       "      <td>-0.500000</td>\n",
       "      <td>-0.100000</td>\n",
       "      <td>0.150000</td>\n",
       "      <td>0.000000</td>\n",
       "      <td>0.000000</td>\n",
       "      <td>0.500000</td>\n",
       "      <td>1400.000000</td>\n",
       "    </tr>\n",
       "    <tr>\n",
       "      <td>75%</td>\n",
       "      <td>1.0</td>\n",
       "      <td>6630.000000</td>\n",
       "      <td>4.000000</td>\n",
       "      <td>542.000000</td>\n",
       "      <td>12.000000</td>\n",
       "      <td>720.000000</td>\n",
       "      <td>0.608059</td>\n",
       "      <td>1.000000</td>\n",
       "      <td>0.754967</td>\n",
       "      <td>14.000000</td>\n",
       "      <td>...</td>\n",
       "      <td>0.100000</td>\n",
       "      <td>1.000000</td>\n",
       "      <td>-0.187500</td>\n",
       "      <td>-0.300000</td>\n",
       "      <td>-0.050000</td>\n",
       "      <td>0.500000</td>\n",
       "      <td>0.142857</td>\n",
       "      <td>0.250000</td>\n",
       "      <td>0.500000</td>\n",
       "      <td>2800.000000</td>\n",
       "    </tr>\n",
       "    <tr>\n",
       "      <td>max</td>\n",
       "      <td>1.0</td>\n",
       "      <td>8692.000000</td>\n",
       "      <td>5.000000</td>\n",
       "      <td>731.000000</td>\n",
       "      <td>20.000000</td>\n",
       "      <td>8474.000000</td>\n",
       "      <td>1.000000</td>\n",
       "      <td>1.000000</td>\n",
       "      <td>1.000000</td>\n",
       "      <td>187.000000</td>\n",
       "      <td>...</td>\n",
       "      <td>1.000000</td>\n",
       "      <td>1.000000</td>\n",
       "      <td>0.000000</td>\n",
       "      <td>0.000000</td>\n",
       "      <td>0.000000</td>\n",
       "      <td>1.000000</td>\n",
       "      <td>1.000000</td>\n",
       "      <td>1.000000</td>\n",
       "      <td>0.500000</td>\n",
       "      <td>843300.000000</td>\n",
       "    </tr>\n",
       "  </tbody>\n",
       "</table>\n",
       "<p>8 rows × 57 columns</p>\n",
       "</div>"
      ],
      "text/plain": [
       "            x0     tag_label  data_channel     timedelta  n_tokens_title  \\\n",
       "count  23786.0  23786.000000  23786.000000  23786.000000    23786.000000   \n",
       "mean       1.0   4341.801228      2.475195    354.083452       10.395695   \n",
       "std        0.0   2560.540028      1.869012    214.621137        2.114026   \n",
       "min        1.0      0.000000      0.000000      8.000000        2.000000   \n",
       "25%        1.0   2290.250000      1.000000    163.000000        9.000000   \n",
       "50%        1.0   4193.000000      2.000000    339.000000       10.000000   \n",
       "75%        1.0   6630.000000      4.000000    542.000000       12.000000   \n",
       "max        1.0   8692.000000      5.000000    731.000000       20.000000   \n",
       "\n",
       "       n_tokens_content  n_unique_tokens  n_non_stop_words  \\\n",
       "count      23786.000000     23786.000000      23786.000000   \n",
       "mean         549.154965         0.529343          0.968595   \n",
       "std          476.367762         0.138775          0.174413   \n",
       "min            0.000000         0.000000          0.000000   \n",
       "25%          247.000000         0.470306          1.000000   \n",
       "50%          410.000000         0.538160          1.000000   \n",
       "75%          720.000000         0.608059          1.000000   \n",
       "max         8474.000000         1.000000          1.000000   \n",
       "\n",
       "       n_non_stop_unique_tokens     num_hrefs  ...  min_positive_polarity  \\\n",
       "count              23786.000000  23786.000000  ...           23786.000000   \n",
       "mean                   0.671521     10.849786  ...               0.094918   \n",
       "std                    0.156337     11.249232  ...               0.071027   \n",
       "min                    0.000000      0.000000  ...               0.000000   \n",
       "25%                    0.625000      4.000000  ...               0.050000   \n",
       "50%                    0.690476      8.000000  ...               0.100000   \n",
       "75%                    0.754967     14.000000  ...               0.100000   \n",
       "max                    1.000000    187.000000  ...               1.000000   \n",
       "\n",
       "       max_positive_polarity  avg_negative_polarity  min_negative_polarity  \\\n",
       "count           23786.000000           23786.000000           23786.000000   \n",
       "mean                0.755732              -0.260015              -0.522938   \n",
       "std                 0.249643               0.128428               0.290564   \n",
       "min                 0.000000              -1.000000              -1.000000   \n",
       "25%                 0.600000              -0.329438              -0.700000   \n",
       "50%                 0.800000              -0.254356              -0.500000   \n",
       "75%                 1.000000              -0.187500              -0.300000   \n",
       "max                 1.000000               0.000000               0.000000   \n",
       "\n",
       "       max_negative_polarity  title_subjectivity  title_sentiment_polarity  \\\n",
       "count           23786.000000        23786.000000              23786.000000   \n",
       "mean               -0.107736            0.283007                  0.070401   \n",
       "std                 0.096336            0.324342                  0.266636   \n",
       "min                -1.000000            0.000000                 -1.000000   \n",
       "25%                -0.125000            0.000000                  0.000000   \n",
       "50%                -0.100000            0.150000                  0.000000   \n",
       "75%                -0.050000            0.500000                  0.142857   \n",
       "max                 0.000000            1.000000                  1.000000   \n",
       "\n",
       "       abs_title_sentiment_polarity  abs_title_subjectivity         shares  \n",
       "count                  23786.000000            23786.000000   23786.000000  \n",
       "mean                       0.156506                0.341339    3514.103254  \n",
       "std                        0.227060                0.189126   13618.369822  \n",
       "min                        0.000000                0.000000       4.000000  \n",
       "25%                        0.000000                0.166667     951.000000  \n",
       "50%                        0.000000                0.500000    1400.000000  \n",
       "75%                        0.250000                0.500000    2800.000000  \n",
       "max                        1.000000                0.500000  843300.000000  \n",
       "\n",
       "[8 rows x 57 columns]"
      ]
     },
     "execution_count": 232,
     "metadata": {},
     "output_type": "execute_result"
    }
   ],
   "source": [
    "train.describe()"
   ]
  },
  {
   "cell_type": "markdown",
   "metadata": {},
   "source": [
    "# Show Shape of data (Train, Test, Sample_submission):"
   ]
  },
  {
   "cell_type": "code",
   "execution_count": 202,
   "metadata": {},
   "outputs": [
    {
     "name": "stdout",
     "output_type": "stream",
     "text": [
      "shape train => (23786, 58)\n",
      "shape test => (15858, 57)\n",
      "shape sample_submission => (15858, 2)\n"
     ]
    }
   ],
   "source": [
    "print(f\"shape train => {train.shape}\")\n",
    "print(f\"shape test => {test.shape}\")\n",
    "print(f\"shape sample_submission => {sample_submission.shape}\")"
   ]
  },
  {
   "cell_type": "code",
   "execution_count": 203,
   "metadata": {},
   "outputs": [],
   "source": [
    "# Features = np.array(train.drop(['tag', 'abs_title_sentiment_polarity'], axis=1))\n",
    "Features = train.drop(['tag', 'abs_title_sentiment_polarity'], axis=1)\n",
    "Target = np.array(train[['abs_title_sentiment_polarity']]).reshape(-1,1)"
   ]
  },
  {
   "cell_type": "code",
   "execution_count": 204,
   "metadata": {},
   "outputs": [
    {
     "name": "stdout",
     "output_type": "stream",
     "text": [
      "shape Features => (23786, 56)\n",
      "shape Target => (23786, 1)\n",
      "shape Theta => (56, 1)\n"
     ]
    }
   ],
   "source": [
    "print(f\"shape Features => {Features.shape}\")\n",
    "print(f\"shape Target => {Target.shape}\")\n",
    "print(f\"shape Theta => {theta.shape}\")\n",
    "# m x n => Row x Column\n",
    "# Row => Number of example\n",
    "# Column => Number of Features"
   ]
  },
  {
   "cell_type": "code",
   "execution_count": 210,
   "metadata": {},
   "outputs": [
    {
     "name": "stdout",
     "output_type": "stream",
     "text": [
      "0.026707191814972293\n",
      "0.026707137376898227\n",
      "0.02670708335775743\n",
      "0.026707029752791323\n",
      "0.026706976557296917\n",
      "0.02670692376662584\n",
      "0.026706871376183515\n",
      "0.026706819381428448\n",
      "0.02670676777787156\n",
      "0.026706716561075577\n",
      "0.02670666572665439\n",
      "0.026706615270272484\n",
      "0.026706565187644346\n",
      "0.026706515474533878\n",
      "0.026706466126753817\n",
      "0.0267064171401652\n",
      "0.026706368510676752\n",
      "0.026706320234244414\n",
      "0.026706272306870713\n",
      "0.026706224724604277\n",
      "0.026706177483539286\n",
      "0.026706130579814944\n",
      "0.026706084009614953\n",
      "0.02670603776916702\n",
      "0.026705991854742324\n",
      "0.026705946262655017\n",
      "0.02670590098926175\n",
      "0.026705856030961143\n",
      "0.026705811384193347\n",
      "0.026705767045439515\n",
      "0.02670572301122136\n",
      "0.026705679278100684\n",
      "0.026705635842678897\n",
      "0.026705592701596576\n",
      "0.026705549851533\n",
      "0.026705507289205715\n",
      "0.026705465011370083\n",
      "0.02670542301481885\n",
      "0.0267053812963817\n",
      "0.026705339852924847\n"
     ]
    }
   ],
   "source": [
    "for k in range(iteration):\n",
    "    h = np.array(hypothesis(theta, Features))\n",
    "    j = cost_function(row_x, Target, h)\n",
    "    lst.append(j)\n",
    "    theta = Gradient_descent(alpha, Features.shape[0], h, Target, theta, Features)\n",
    "    if(k%50==0):\n",
    "        print(j)"
   ]
  },
  {
   "cell_type": "code",
   "execution_count": 226,
   "metadata": {},
   "outputs": [
    {
     "name": "stdout",
     "output_type": "stream",
     "text": [
      "Theta_0 => 6.92395468163492e-13\n",
      "Theta_1 => 3.043155455493335e-09\n",
      "Theta_2 => -1.8724039346604945e-13\n",
      "Theta_3 => 4.666343447618484e-10\n",
      "Theta_4 => 7.469707659450831e-12\n",
      "Theta_5 => 4.1204861593245793e-10\n",
      "Theta_6 => 3.482034937703626e-13\n",
      "Theta_7 => 6.276277484067934e-13\n",
      "Theta_8 => 4.1365406994492943e-13\n",
      "Theta_9 => 1.2665562806192146e-11\n",
      "Theta_10 => 2.173182881437219e-12\n",
      "Theta_11 => 7.763378140820282e-12\n",
      "Theta_12 => 2.6497968004727495e-12\n",
      "Theta_13 => 2.8461263779619545e-12\n",
      "Theta_14 => 5.646074685904271e-12\n",
      "Theta_15 => 1.1971304203483886e-10\n",
      "Theta_16 => 1.3430335628426244e-09\n",
      "Theta_17 => 3.9958037725111e-10\n",
      "Theta_18 => 4.918080579735103e-09\n",
      "Theta_19 => 1.6751312539072616e-07\n",
      "Theta_20 => 7.012515561879332e-08\n",
      "Theta_21 => 9.29422354386828e-10\n",
      "Theta_22 => 5.8036057110871735e-09\n",
      "Theta_23 => 2.7991704842846306e-09\n",
      "Theta_24 => 2.620532759863302e-09\n",
      "Theta_25 => 4.762583331633232e-09\n",
      "Theta_26 => 2.9447458758593543e-09\n",
      "Theta_27 => 1.0676822652464717e-13\n",
      "Theta_28 => 1.043869341048119e-13\n",
      "Theta_29 => 9.702418262041135e-14\n",
      "Theta_30 => 1.1743157071544602e-13\n",
      "Theta_31 => 9.469929120671166e-14\n",
      "Theta_32 => 5.845032727321004e-14\n",
      "Theta_33 => 1.1363493571825374e-13\n",
      "Theta_34 => 1.7208526299146364e-13\n",
      "Theta_35 => 6.157448289946787e-14\n",
      "Theta_36 => 1.8379903249120499e-13\n",
      "Theta_37 => -7.599874282790461e-14\n",
      "Theta_38 => 4.562024628003593e-13\n",
      "Theta_39 => 6.681823294416488e-14\n",
      "Theta_40 => 4.055840477674517e-13\n",
      "Theta_41 => 1.6196582220213772e-13\n",
      "Theta_42 => 4.7024140649479114e-14\n",
      "Theta_43 => 1.6054337370742907e-14\n",
      "Theta_44 => 4.928004017540046e-13\n",
      "Theta_45 => 1.3557251775223077e-13\n",
      "Theta_46 => 3.4088713946685206e-13\n",
      "Theta_47 => 7.36216678222854e-14\n",
      "Theta_48 => 7.04104466180853e-13\n",
      "Theta_49 => -2.599187496134864e-13\n",
      "Theta_50 => -4.813827783995387e-13\n",
      "Theta_51 => -9.117771597830849e-14\n",
      "Theta_52 => 2.2885813188050637e-12\n",
      "Theta_53 => 1.0311118705643024e-12\n",
      "Theta_54 => -4.4291746040879183e-13\n",
      "Theta_55 => 5.196799986598453e-09\n"
     ]
    }
   ],
   "source": [
    "index = 0\n",
    "for i in theta:\n",
    "    print(f\"Theta_{index} => {theta[index][0]}\")\n",
    "    index+=1"
   ]
  },
  {
   "cell_type": "markdown",
   "metadata": {},
   "source": [
    "# Plot cost vs iteration"
   ]
  },
  {
   "cell_type": "code",
   "execution_count": 233,
   "metadata": {},
   "outputs": [
    {
     "data": {
      "image/png": "[encoded data removed]",
      "text/plain": [
       "<Figure size 432x288 with 1 Axes>"
      ]
     },
     "metadata": {
      "needs_background": "light"
     },
     "output_type": "display_data"
    }
   ],
   "source": [
    "plt.title('Cost Function J')\n",
    "plt.xlabel('iteration')\n",
    "plt.ylabel('Cost')\n",
    "plt.plot(lst)\n",
    "plt.show()"
   ]
  },
  {
   "cell_type": "code",
   "execution_count": 207,
   "metadata": {},
   "outputs": [],
   "source": [
    "test.insert(0, 'X0', 1)\n",
    "Features_test = test.drop(['Id', 'tag'], axis=1)"
   ]
  },
  {
   "cell_type": "markdown",
   "metadata": {},
   "source": [
    "# The Prediction:"
   ]
  },
  {
   "cell_type": "code",
   "execution_count": 208,
   "metadata": {},
   "outputs": [],
   "source": [
    "Predict = np.dot(Features_test, theta)"
   ]
  },
  {
   "cell_type": "code",
   "execution_count": 209,
   "metadata": {},
   "outputs": [],
   "source": [
    "sample_submission['abs_title_sentiment_polarity'] = Predict\n",
    "sample_submission.to_csv(R\"D:\\Machine Learning\\Algorithms\\Linear_Regression\\sample_submission1.csv\", index=False)"
   ]
  },
  {
   "cell_type": "code",
   "execution_count": null,
   "metadata": {},
   "outputs": [],
   "source": []
  }
 ],
 "metadata": {
  "kernelspec": {
   "display_name": "Python 3",
   "language": "python",
   "name": "python3"
  },
  "language_info": {
   "codemirror_mode": {
    "name": "ipython",
    "version": 3
   },
   "file_extension": ".py",
   "mimetype": "text/x-python",
   "name": "python",
   "nbconvert_exporter": "python",
   "pygments_lexer": "ipython3",
   "version": "3.7.4"
  }
 },
 "nbformat": 4,
 "nbformat_minor": 2
}
